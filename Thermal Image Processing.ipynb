{
 "cells": [
  {
   "cell_type": "code",
   "execution_count": 1,
   "id": "45cc1299",
   "metadata": {},
   "outputs": [],
   "source": [
    "#importing all the necessary libraries and frameworks required\n",
    "import pandas as pd\n",
    "import numpy as np\n",
    "import matplotlib.pyplot as plt\n",
    "import sklearn \n",
    "from sklearn import preprocessing\n",
    "import cv2\n"
   ]
  },
  {
   "cell_type": "code",
   "execution_count": 2,
   "id": "69a37da7",
   "metadata": {},
   "outputs": [],
   "source": [
    "#importing the dataset\n",
    "data = pd.read_csv(\"C:/Users/Dell/Documents/temperature_data.csv\")"
   ]
  },
  {
   "cell_type": "code",
   "execution_count": 3,
   "id": "9811b2c9",
   "metadata": {},
   "outputs": [],
   "source": [
    "# convert csv file into an array for a better processing\n",
    "\n",
    "data1= np.array(data)\n"
   ]
  },
  {
   "cell_type": "code",
   "execution_count": 4,
   "id": "19db8554",
   "metadata": {},
   "outputs": [],
   "source": [
    "#Sample sensor data\n",
    "sensor_data = [num/100 for num in data1]\n"
   ]
  },
  {
   "cell_type": "code",
   "execution_count": 5,
   "id": "69fc7c6d",
   "metadata": {},
   "outputs": [],
   "source": [
    "#Reshaping the data into a 24x32 thermal image as required\n",
    "thermal_image = np.array(sensor_data).reshape(24,32)\n"
   ]
  },
  {
   "cell_type": "code",
   "execution_count": 6,
   "id": "d633eb63",
   "metadata": {},
   "outputs": [
    {
     "data": {
      "text/plain": [
       "array([[0.2882    , 0.2882    , 0.288375  , ..., 0.2915625 , 0.2915    ,\n",
       "        0.2915    ],\n",
       "       [0.2882    , 0.2882    , 0.288375  , ..., 0.2915625 , 0.2915    ,\n",
       "        0.2915    ],\n",
       "       [0.2889125 , 0.2889125 , 0.28884375, ..., 0.29191875, 0.292125  ,\n",
       "        0.292125  ],\n",
       "       ...,\n",
       "       [0.26278752, 0.26278752, 0.2621922 , ..., 0.28684843, 0.2887    ,\n",
       "        0.2887    ],\n",
       "       [0.2632    , 0.2632    , 0.26255   , ..., 0.2876375 , 0.2894    ,\n",
       "        0.2894    ],\n",
       "       [0.2632    , 0.2632    , 0.26255   , ..., 0.2876375 , 0.2894    ,\n",
       "        0.2894    ]], dtype=float32)"
      ]
     },
     "execution_count": 6,
     "metadata": {},
     "output_type": "execute_result"
    }
   ],
   "source": [
    "#Upscale the image for better visibility\n",
    "upscale_factor = 4\n",
    "image = thermal_image.astype(np.float32)\n",
    "thermal_image= cv2.resize(image, (32*upscale_factor, 24*upscale_factor))\n",
    "thermal_image"
   ]
  },
  {
   "cell_type": "code",
   "execution_count": 7,
   "id": "06e41401",
   "metadata": {},
   "outputs": [],
   "source": [
    "#Smoothening the image to reduce pixelation using Gaussian Blur filter\n",
    "thermal_image = cv2.GaussianBlur(thermal_image,(0,0),5)\n"
   ]
  },
  {
   "cell_type": "code",
   "execution_count": 8,
   "id": "c2ecd5cf",
   "metadata": {},
   "outputs": [
    {
     "data": {
      "text/plain": [
       "(0.24016464, 0.32009315, (60, 37), (43, 127))"
      ]
     },
     "execution_count": 8,
     "metadata": {},
     "output_type": "execute_result"
    }
   ],
   "source": [
    "#Find the clodest and hottest temperatures\n",
    "min_temp = np.min(thermal_image)\n",
    "def index(array, item): #index required to form the marks for the hottest and coldest temperatures\n",
    "    for index, val in np.ndenumerate(array):\n",
    "        if val == item:\n",
    "            return index\n",
    "min_idx_temp = (index(thermal_image, min_temp)) #index of minimum temperature\n",
    "max_temp = np.max(thermal_image)\n",
    "max_idx_temp = (index(thermal_image, max_temp))#index of maximum temperature\n",
    "min_temp,max_temp,min_idx_temp,max_idx_temp"
   ]
  },
  {
   "cell_type": "code",
   "execution_count": 9,
   "id": "7d738ba5",
   "metadata": {},
   "outputs": [
    {
     "data": {
      "text/plain": [
       "array([[0.2863263 , 0.2862441 , 0.28599972, ..., 0.2881062 , 0.28848958,\n",
       "        0.28861943],\n",
       "       [0.2862459 , 0.2861631 , 0.28591684, ..., 0.28807825, 0.2884608 ,\n",
       "        0.28859043],\n",
       "       [0.28600425, 0.28591958, 0.28566805, ..., 0.28799284, 0.288373  ,\n",
       "        0.2885018 ],\n",
       "       ...,\n",
       "       [0.25691363, 0.2568373 , 0.25661162, ..., 0.2755989 , 0.27624562,\n",
       "        0.27646574],\n",
       "       [0.25715685, 0.257078  , 0.25684488, ..., 0.27571875, 0.27637127,\n",
       "        0.27659348],\n",
       "       [0.25723946, 0.2571597 , 0.25692406, ..., 0.27576044, 0.27641496,\n",
       "        0.27663776]], dtype=float32)"
      ]
     },
     "execution_count": 9,
     "metadata": {},
     "output_type": "execute_result"
    }
   ],
   "source": [
    "#Mark the coldest and the hottest temperatures using a circle\n",
    "coldest_colour = (255,0,0) #blue\n",
    "hottest_colour = (0,0,255) #red\n",
    "thermal_image_with_marks = thermal_image.copy()\n",
    "cv2.circle(thermal_image_with_marks, min_idx_temp,20, coldest_colour,2) #marking for coldest temp\n",
    "cv2.circle(thermal_image_with_marks, max_idx_temp,20, hottest_colour,2) #marking for hottest temp\n",
    "\n"
   ]
  },
  {
   "cell_type": "code",
   "execution_count": 10,
   "id": "a43455a4",
   "metadata": {},
   "outputs": [],
   "source": [
    "#Displaying the final image\n",
    "cv2.imshow(\"Thermal Image\", image)\n",
    "cv2.waitKey(0) \n",
    "cv2.destroyAllWindows()\n"
   ]
  }
 ],
 "metadata": {
  "kernelspec": {
   "display_name": "Python 3 (ipykernel)",
   "language": "python",
   "name": "python3"
  },
  "language_info": {
   "codemirror_mode": {
    "name": "ipython",
    "version": 3
   },
   "file_extension": ".py",
   "mimetype": "text/x-python",
   "name": "python",
   "nbconvert_exporter": "python",
   "pygments_lexer": "ipython3",
   "version": "3.10.6"
  }
 },
 "nbformat": 4,
 "nbformat_minor": 5
}
